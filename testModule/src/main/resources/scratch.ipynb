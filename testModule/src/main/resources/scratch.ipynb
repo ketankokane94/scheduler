{
 "cells": [
  {
   "cell_type": "code",
   "execution_count": 1,
   "metadata": {
    "collapsed": true
   },
   "outputs": [],
   "source": [
    "end_of_day = 2230\n",
    "start_of_day = 530\n",
    "\n",
    "events = [[1400, 1515,\"Lect CV\"], [930, 1045,\"Lect FIS\"],[1530, 1645,\"SS\"]]\n",
    "daily_acts = [[1300, 1330,\"Lunch\"],[2000, 2030,\"Dinner\"]]\n",
    "\n",
    "events.extend(daily_acts)\n",
    "events.append([0,start_of_day , \"wake up\"])\n",
    "events.append([end_of_day, 2359, \"sleep\"])\n",
    "# how to handle over lap, cause this can happen \n",
    "events.sort()"
   ]
  },
  {
   "cell_type": "code",
   "execution_count": 2,
   "metadata": {},
   "outputs": [
    {
     "data": {
      "text/plain": [
       "[[0, 530, 'wake up'],\n",
       " [930, 1045, 'Lect FIS'],\n",
       " [1300, 1330, 'Lunch'],\n",
       " [1400, 1515, 'Lect CV'],\n",
       " [1530, 1645, 'SS'],\n",
       " [2000, 2030, 'Dinner'],\n",
       " [2230, 2359, 'sleep']]"
      ]
     },
     "execution_count": 2,
     "metadata": {},
     "output_type": "execute_result"
    }
   ],
   "source": [
    "events"
   ]
  },
  {
   "cell_type": "code",
   "execution_count": 7,
   "metadata": {},
   "outputs": [
    {
     "name": "stdout",
     "output_type": "stream",
     "text": [
      "[[530, 930, 'Not assigned', 400], [1045, 1300, 'Not assigned', 255], [1330, 1400, 'Not assigned', 70], [1645, 2000, 'Not assigned', 355], [2030, 2230, 'Not assigned', 200]]\n"
     ]
    }
   ],
   "source": [
    "freeSlots = []\n",
    "min_interval = 55\n",
    "max_interval = 200\n",
    "prev = events[0]\n",
    "for _ in range(1, len(events)):\n",
    "    curr = events[_]\n",
    "    if curr[0] - prev[1] > min_interval:\n",
    "        freeSlots.append([prev[1], curr[0], \"Not assigned\", curr[0] - prev[1]])\n",
    "    prev = curr\n",
    "print(freeSlots)\n",
    "\n",
    "# split if the interval is more than 2 hours \n"
   ]
  },
  {
   "cell_type": "code",
   "execution_count": 10,
   "metadata": {},
   "outputs": [],
   "source": [
    "import heapq\n",
    "heapq.heapify(freeSlots)"
   ]
  },
  {
   "cell_type": "code",
   "execution_count": 11,
   "metadata": {},
   "outputs": [
    {
     "data": {
      "text/plain": [
       "[[530, 930, 'Not assigned', 400],\n",
       " [1045, 1300, 'Not assigned', 255],\n",
       " [1330, 1400, 'Not assigned', 70],\n",
       " [1645, 2000, 'Not assigned', 355],\n",
       " [2030, 2230, 'Not assigned', 200]]"
      ]
     },
     "execution_count": 11,
     "metadata": {},
     "output_type": "execute_result"
    }
   ],
   "source": [
    "freeSlots"
   ]
  },
  {
   "cell_type": "code",
   "execution_count": 58,
   "metadata": {
    "collapsed": true
   },
   "outputs": [],
   "source": [
    "import pandas as pd"
   ]
  },
  {
   "cell_type": "code",
   "execution_count": 59,
   "metadata": {
    "collapsed": true
   },
   "outputs": [],
   "source": [
    "projs = pd.read_json(\"scheduler_projects.json\")"
   ]
  },
  {
   "cell_type": "code",
   "execution_count": 61,
   "metadata": {},
   "outputs": [
    {
     "data": {
      "text/html": [
       "<div>\n",
       "<style>\n",
       "    .dataframe thead tr:only-child th {\n",
       "        text-align: right;\n",
       "    }\n",
       "\n",
       "    .dataframe thead th {\n",
       "        text-align: left;\n",
       "    }\n",
       "\n",
       "    .dataframe tbody tr th {\n",
       "        vertical-align: top;\n",
       "    }\n",
       "</style>\n",
       "<table border=\"1\" class=\"dataframe\">\n",
       "  <thead>\n",
       "    <tr style=\"text-align: right;\">\n",
       "      <th></th>\n",
       "      <th>completed_hours</th>\n",
       "      <th>deadline</th>\n",
       "      <th>name</th>\n",
       "      <th>required_hours</th>\n",
       "    </tr>\n",
       "  </thead>\n",
       "  <tbody>\n",
       "    <tr>\n",
       "      <th>0</th>\n",
       "      <td>0</td>\n",
       "      <td>07/17/2018</td>\n",
       "      <td>Solve 3 problems on leetcode</td>\n",
       "      <td>3</td>\n",
       "    </tr>\n",
       "    <tr>\n",
       "      <th>1</th>\n",
       "      <td>0</td>\n",
       "      <td>07/18/2018</td>\n",
       "      <td>Solve 3 problems on leetcode</td>\n",
       "      <td>3</td>\n",
       "    </tr>\n",
       "    <tr>\n",
       "      <th>2</th>\n",
       "      <td>0</td>\n",
       "      <td>07/19/2018</td>\n",
       "      <td>Solve 3 problems on leetcode</td>\n",
       "      <td>3</td>\n",
       "    </tr>\n",
       "    <tr>\n",
       "      <th>3</th>\n",
       "      <td>0</td>\n",
       "      <td>07/20/2018</td>\n",
       "      <td>Solve 3 problems on leetcode</td>\n",
       "      <td>3</td>\n",
       "    </tr>\n",
       "    <tr>\n",
       "      <th>4</th>\n",
       "      <td>0</td>\n",
       "      <td>07/21/2018</td>\n",
       "      <td>Solve 3 problems on leetcode</td>\n",
       "      <td>3</td>\n",
       "    </tr>\n",
       "  </tbody>\n",
       "</table>\n",
       "</div>"
      ],
      "text/plain": [
       "   completed_hours    deadline                          name  required_hours\n",
       "0                0  07/17/2018  Solve 3 problems on leetcode               3\n",
       "1                0  07/18/2018  Solve 3 problems on leetcode               3\n",
       "2                0  07/19/2018  Solve 3 problems on leetcode               3\n",
       "3                0  07/20/2018  Solve 3 problems on leetcode               3\n",
       "4                0  07/21/2018  Solve 3 problems on leetcode               3"
      ]
     },
     "execution_count": 61,
     "metadata": {},
     "output_type": "execute_result"
    }
   ],
   "source": [
    "projs.sort_values(by=[\"deadline\", \"completed_hours\"])"
   ]
  },
  {
   "cell_type": "code",
   "execution_count": 65,
   "metadata": {
    "collapsed": true
   },
   "outputs": [],
   "source": [
    "f = freeSlots.copy()"
   ]
  },
  {
   "cell_type": "code",
   "execution_count": 67,
   "metadata": {
    "collapsed": true
   },
   "outputs": [],
   "source": [
    "f[0][2] = \"solve 3\""
   ]
  },
  {
   "cell_type": "code",
   "execution_count": 71,
   "metadata": {},
   "outputs": [
    {
     "name": "stdout",
     "output_type": "stream",
     "text": [
      "{'name': 'Solve 3 problems on leetcode', 'required_hours': 3, 'deadline': '07/17/2018', 'completed_hours': 0}\n",
      "{'name': 'Solve 3 problems on leetcode', 'required_hours': 3, 'deadline': '07/18/2018', 'completed_hours': 0}\n",
      "{'name': 'Solve 3 problems on leetcode', 'required_hours': 3, 'deadline': '07/19/2018', 'completed_hours': 0}\n",
      "{'name': 'Solve 3 problems on leetcode', 'required_hours': 3, 'deadline': '07/20/2018', 'completed_hours': 0}\n",
      "{'name': 'Solve 3 problems on leetcode', 'required_hours': 3, 'deadline': '07/21/2018', 'completed_hours': 0}\n"
     ]
    }
   ],
   "source": [
    "import json\n",
    "index = 0\n",
    "with open('scheduler_projects.json') as json_file:  \n",
    "    data = json.load(json_file)\n",
    "    for p in data:\n",
    "        if hours > 0:\n",
    "            h = freeSlots[index][1] - freeSlots[index][0] \n",
    "            if h "
   ]
  },
  {
   "cell_type": "code",
   "execution_count": null,
   "metadata": {
    "collapsed": true
   },
   "outputs": [],
   "source": []
  }
 ],
 "metadata": {
  "kernelspec": {
   "display_name": "Python 3",
   "language": "python",
   "name": "python3"
  },
  "language_info": {
   "codemirror_mode": {
    "name": "ipython",
    "version": 3
   },
   "file_extension": ".py",
   "mimetype": "text/x-python",
   "name": "python",
   "nbconvert_exporter": "python",
   "pygments_lexer": "ipython3",
   "version": "3.6.3"
  }
 },
 "nbformat": 4,
 "nbformat_minor": 2
}

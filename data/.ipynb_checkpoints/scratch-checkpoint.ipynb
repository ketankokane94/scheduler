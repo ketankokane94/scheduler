{
 "cells": [
  {
   "cell_type": "code",
   "execution_count": 33,
   "metadata": {
    "collapsed": true
   },
   "outputs": [],
   "source": [
    "end_of_day = 2230\n",
    "start_of_day = 530\n",
    "\n",
    "events = [[1400, 1515], [930, 1045],[1530, 1645]]\n",
    "daily_acts = [[1300, 1330],[2000, 2030]]\n",
    "\n",
    "events.extend(daily_acts)\n",
    "events.append([0,start_of_day ])\n",
    "events.append([end_of_day, 2359])\n",
    "\n",
    "events.sort()\n",
    "\n"
   ]
  },
  {
   "cell_type": "code",
   "execution_count": 34,
   "metadata": {},
   "outputs": [
    {
     "data": {
      "text/plain": [
       "[[0, 530],\n",
       " [930, 1045],\n",
       " [1300, 1330],\n",
       " [1400, 1515],\n",
       " [1530, 1645],\n",
       " [2000, 2030],\n",
       " [2230, 2359]]"
      ]
     },
     "execution_count": 34,
     "metadata": {},
     "output_type": "execute_result"
    }
   ],
   "source": [
    "events"
   ]
  },
  {
   "cell_type": "code",
   "execution_count": 35,
   "metadata": {
    "collapsed": true
   },
   "outputs": [],
   "source": [
    "\n"
   ]
  },
  {
   "cell_type": "code",
   "execution_count": 38,
   "metadata": {},
   "outputs": [],
   "source": [
    "result = []\n",
    "prev = events[0]\n",
    "for _ in range(1, len(events)):\n",
    "    curr = events[_]\n",
    "    if curr[0] - prev[1] > 55:\n",
    "        result.append([prev[1]+5, curr[0]-5])\n",
    "        "
   ]
  },
  {
   "cell_type": "raw",
   "metadata": {},
   "source": []
  }
 ],
 "metadata": {
  "kernelspec": {
   "display_name": "Python 3",
   "language": "python",
   "name": "python3"
  },
  "language_info": {
   "codemirror_mode": {
    "name": "ipython",
    "version": 3
   },
   "file_extension": ".py",
   "mimetype": "text/x-python",
   "name": "python",
   "nbconvert_exporter": "python",
   "pygments_lexer": "ipython3",
   "version": "3.6.3"
  }
 },
 "nbformat": 4,
 "nbformat_minor": 2
}
